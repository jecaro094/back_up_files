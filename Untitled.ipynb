{
 "cells": [
  {
   "cell_type": "code",
   "execution_count": 56,
   "metadata": {},
   "outputs": [],
   "source": [
    "import os, shutil\n",
    "from datetime import datetime\n",
    "import time\n",
    "\n",
    "\n",
    "def copytree(src, dst, symlinks=False, ignore=None):\n",
    "    for item in os.listdir(src):\n",
    "        s = os.path.join(src, item)\n",
    "        d = os.path.join(dst, item)\n",
    "        if os.path.isdir(s):\n",
    "            if not os.path.exists(d):\n",
    "                 distutils.dir_util.copy_tree(s, d, symlinks, ignore)\n",
    "            else:\n",
    "                print(\"Folder exist\")\n",
    "        else:   \n",
    "            if not os.path.exists(d):\n",
    "                shutil.copy2(s, d)\n",
    "            else:\n",
    "                print(\"Files exist\")"
   ]
  },
  {
   "cell_type": "code",
   "execution_count": 37,
   "metadata": {},
   "outputs": [],
   "source": [
    "\n",
    "def back_up(source_folder, target_folder):\n",
    "    print('Starting execution...')\n",
    "\n",
    "    copytree(source_folder, target_folder)\n",
    "    \n",
    "    print('Execution ended!!')"
   ]
  },
  {
   "cell_type": "code",
   "execution_count": 38,
   "metadata": {},
   "outputs": [
    {
     "name": "stdout",
     "output_type": "stream",
     "text": [
      "Starting execution...\n",
      "Folder exist\n",
      "Files exist\n",
      "Execution ended!!\n"
     ]
    }
   ],
   "source": [
    "source_folder = os.path.join(os.getcwd(), \"source\")\n",
    "target_folder = os.path.join(os.getcwd(), \"target\")\n",
    "\n",
    "back_up(source_folder, target_folder)"
   ]
  },
  {
   "cell_type": "code",
   "execution_count": 83,
   "metadata": {},
   "outputs": [],
   "source": [
    "def get_modification_date(path):\n",
    "    \"\"\"\n",
    "    Returns last modification date from file detailed in path (input)\n",
    "    \"\"\"\n",
    "    modification_date_str = datetime.fromtimestamp(os.path.getmtime(path)).isoformat()\n",
    "    return datetime.strptime(modification_date_str, '%Y-%m-%dT%H:%M:%S.%f')\n",
    "    "
   ]
  },
  {
   "cell_type": "code",
   "execution_count": 86,
   "metadata": {},
   "outputs": [
    {
     "name": "stdout",
     "output_type": "stream",
     "text": [
      "\\region.ipynb 2020-10-08 14:31:59.317014\n",
      "\\02 - Casos de Analítica Escalable\\Analítica escalable (2020_10_07 17_51_39 UTC).ipynb 2020-10-08 14:28:05.597150\n",
      "\\02 - Casos de Analítica Escalable\\sdfsd.txt 2020-10-08 14:28:05.597150\n",
      "\\02 - Casos de Analítica Escalable\\covid_data\\COVID19_line_list_data (2020_10_07 17_51_39 UTC).csv 2020-10-08 13:48:39.931534\n",
      "\\02 - Casos de Analítica Escalable\\covid_data\\covid_19_data (2020_10_07 17_51_39 UTC).csv 2020-10-08 13:48:39.931534\n",
      "\\02 - Casos de Analítica Escalable\\covid_data\\time_series_covid_19_confirmed (2020_10_07 17_51_39 UTC).csv 2020-10-08 13:48:39.931534\n",
      "\\02 - Casos de Analítica Escalable\\covid_data\\time_series_covid_19_deaths (2020_10_07 17_51_39 UTC).csv 2020-10-08 13:48:39.931534\n",
      "\\02 - Casos de Analítica Escalable\\covid_data\\time_series_covid_19_recovered (2020_10_07 17_51_39 UTC).csv 2020-10-08 13:48:39.931534\n"
     ]
    }
   ],
   "source": [
    "date_vector= []\n",
    "for path, subdirs, files in os.walk(source_folder):\n",
    "    for name in files:\n",
    "        date_vector.append(get_modification_date(path))\n",
    "        file_considered = (os.path.join(path, name)).split(f\"{source_folder}\")[-1]\n",
    "        print(file_considered, get_modification_date(path))"
   ]
  },
  {
   "cell_type": "code",
   "execution_count": 87,
   "metadata": {},
   "outputs": [],
   "source": [
    "list.sort(date_vector)"
   ]
  },
  {
   "cell_type": "code",
   "execution_count": 88,
   "metadata": {},
   "outputs": [
    {
     "data": {
      "text/plain": [
       "[datetime.datetime(2020, 10, 8, 13, 48, 39, 931534),\n",
       " datetime.datetime(2020, 10, 8, 13, 48, 39, 931534),\n",
       " datetime.datetime(2020, 10, 8, 13, 48, 39, 931534),\n",
       " datetime.datetime(2020, 10, 8, 13, 48, 39, 931534),\n",
       " datetime.datetime(2020, 10, 8, 13, 48, 39, 931534),\n",
       " datetime.datetime(2020, 10, 8, 14, 28, 5, 597150),\n",
       " datetime.datetime(2020, 10, 8, 14, 28, 5, 597150),\n",
       " datetime.datetime(2020, 10, 8, 14, 31, 59, 317014)]"
      ]
     },
     "execution_count": 88,
     "metadata": {},
     "output_type": "execute_result"
    }
   ],
   "source": [
    "date_vector"
   ]
  },
  {
   "cell_type": "code",
   "execution_count": null,
   "metadata": {},
   "outputs": [],
   "source": []
  }
 ],
 "metadata": {
  "kernelspec": {
   "display_name": "Python 3",
   "language": "python",
   "name": "python3"
  },
  "language_info": {
   "codemirror_mode": {
    "name": "ipython",
    "version": 3
   },
   "file_extension": ".py",
   "mimetype": "text/x-python",
   "name": "python",
   "nbconvert_exporter": "python",
   "pygments_lexer": "ipython3",
   "version": "3.7.3"
  }
 },
 "nbformat": 4,
 "nbformat_minor": 2
}
